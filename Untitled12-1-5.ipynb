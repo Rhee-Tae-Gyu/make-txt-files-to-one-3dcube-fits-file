{
 "cells": [
  {
   "cell_type": "code",
   "execution_count": 1,
   "id": "cd457c62-e51f-4371-90d8-0879c3c08e94",
   "metadata": {},
   "outputs": [
    {
     "data": {
      "text/plain": [
       "(218, 651, 141918)"
      ]
     },
     "execution_count": 1,
     "metadata": {},
     "output_type": "execute_result"
    }
   ],
   "source": [
    "####################################PAL_data BL7pannel에 사용가능하게 하기\n",
    "from astropy.io import fits\n",
    "import numpy as np\n",
    "s1,s2=1,2# energy,kx binning\n",
    "a = np.loadtxt('chunkCube0.txt', delimiter=\",\")#######you need txt data wich seperated by ,\n",
    "b = np.transpose(a[::s1,::s2])\n",
    "x,y,z,unit_angle=(151,int(b.shape[0]),int((b.shape[1])),0.2)#######shape x is number of txt file\n",
    "y,z,y*z"
   ]
  },
  {
   "cell_type": "code",
   "execution_count": 2,
   "id": "c0988589-d669-4346-991a-dd15b8d0f093",
   "metadata": {},
   "outputs": [],
   "source": [
    "\n",
    "counts = np.arange(x)\n",
    "count = np.arange(x)\n",
    "values = np.arange(y*z*x).reshape(x, y,z)\n",
    "col2 = fits.Column(name='time', format='1D', unit='DN', array=counts)\n",
    "col3 = fits.Column(name='alpha', format='1D', unit='', array=count)\n",
    "col6 = fits.Column(name='Swept_Spectra0', format=f'{y*z}D',unit='arb', dim=f'({y},{z})', array=values)   #format='y_value*z_value' dim='(y_value,z_value)\n",
    "coldefs = fits.ColDefs([ col2, col3, col6])\n",
    "hdu = fits.BinTableHDU.from_columns(coldefs)"
   ]
  },
  {
   "cell_type": "code",
   "execution_count": 3,
   "id": "d082c67d-f1ea-486a-beae-c7895a32076e",
   "metadata": {},
   "outputs": [],
   "source": [
    "hdu.writeto('empty_sheet.fits', overwrite=True)"
   ]
  },
  {
   "cell_type": "code",
   "execution_count": 4,
   "id": "d0f15c5d-e469-47dc-8e58-960be924506d",
   "metadata": {},
   "outputs": [],
   "source": [
    "newfile='empty_sheet.fits'\n",
    "orfile='20210930_000033.fits'\n",
    "f00001= fits.open(newfile)\n",
    "p00001= fits.open(orfile)\n",
    "\n",
    "for n in range(0,x):\n",
    "    a = np.loadtxt('chunkCube'+str(n)+'.txt', delimiter=\",\")#########change 'chunkCube' to your file name\n",
    "    b = np.transpose(a)\n",
    "    f00001[1].data['Swept_Spectra0'][n]=a[::s1,::s2]\n",
    "    f00001[1].data['alpha'][n]=n*unit_angle"
   ]
  },
  {
   "cell_type": "code",
   "execution_count": 5,
   "id": "11f289d5-cc9a-4dde-b535-5ecd680f743d",
   "metadata": {},
   "outputs": [],
   "source": [
    "###########################################################experimental details in header 0,1\n",
    "p00001[1].header['NAXIS1']  =  f00001[1].header['NAXIS1']\n",
    "p00001[1].header['TUNIT1']  = 'sec' \n",
    "p00001[1].header['TDIM3']   = f00001[1].header['TDIM3']\n",
    "p00001[1].header['TFORM3']   = f00001[1].header['TFORM3']\n",
    "p00001[0].header['SS_PPEV'] = 'Inf '\n",
    "p00001[0].header['ST_0_0']  =   unit_angle*(x-1)/2             \n",
    "p00001[0].header['EN_0_0']   =    -unit_angle*(x-1)/2                \n",
    "p00001[0].header['N_0_0'] = x\n",
    "f00001[1].header=p00001[1].header\n",
    "f00001[0].header=p00001[0].header\n",
    "f00001.writeto('20210930_000033.fits',overwrite=True)################make fits file you want"
   ]
  },
  {
   "cell_type": "code",
   "execution_count": 6,
   "id": "687562e8-f958-4d9b-8a5e-7412156a96e5",
   "metadata": {},
   "outputs": [
    {
     "data": {
      "text/plain": [
       "SIMPLE  =                    T                                                  \n",
       "BITPIX  =                    8                                                  \n",
       "NAXIS   =                    0                                                  \n",
       "EXTEND  =                    T                                                  \n",
       "COMMENT Created by eli's labview vi                                             \n",
       "START_T = '6/14/2021 12:58:12 AM'                                               \n",
       "START_TS=    3.706502292307E+9 /Windows Time                                    \n",
       "HOST    = 'HERS-DAQ2.als.lbl.gov'                                               \n",
       "HOST_IP = '131.243.76.233'                                                      \n",
       "COMMENT ==================================                                      \n",
       "COMMENT BEAMLINE SETTINGS                                                       \n",
       "MONOEV  =    6.300517000000E+1                                                  \n",
       "MONOANG =    3.953038000000E+0                                                  \n",
       "MONOINDE=                    0 /1=125  2=380 3=925 l/mm                         \n",
       "UNDGAP  =    4.892684700000E+1                                                  \n",
       "UNDHARM =                    0                                                  \n",
       "EXITSLIT=    4.686554635000E+3                                                  \n",
       "HBDAOFF =    0.000000000000E+0                                                  \n",
       "HBDAWID =    0.000000000000E+0                                                  \n",
       "EXITWIDT=    2.462000000000E+0                                                  \n",
       "ENTRWIDT=    1.216846000000E+0                                                  \n",
       "RESOLUTI=    0.000000000000E+0                                                  \n",
       "RINGCURR=    0.000000000000E+0                                                  \n",
       "COMMENT ==================================                                      \n",
       "COMMENT LOW LEVEL SCAN DESCRIPTION STARTS HERE                                  \n",
       "LWLVNM  = 'Beamline' /low level scan mode name                                  \n",
       "SCANPAR =                    F /scanning  loops in parallel?                    \n",
       "LWLVLPN =                    1 /number of low level loops                       \n",
       "SCNTYP0 =                    0 /scan type for loop #0: 0=computed, 1=tabulated  \n",
       "DEVNM_0 = 'Beamline' /device name for loop #0                                   \n",
       "NMSBDV0 =                    1 /# of subdevices for loop #0                     \n",
       "NM_0_0  = 'Alpha' /name of loop # 0 subdevice # 0                               \n",
       "UN_0_0  = '' /units of loop # 0 subdevice # 0                                   \n",
       "ST_0_0  =                 15.0 / start posn,  loop # 0subdevice # 0             \n",
       "EN_0_0  =                -15.0 / end posn,  loop # 0 subdevice # 0              \n",
       "N_0_0   =                  151 / num posns,  loop # 0 subdevice # 0             \n",
       "COMMENT ==================================                                      \n",
       "COMMENT ADDITIONAL SCAN MODE SPECIFIC HEADER STARTS HERE                        \n",
       "COMMENT ==================================                                      \n",
       "COMMENT DAQ DESCRIPTION FOR Swept [SES4000]                                     \n",
       "SF_MODEL= 'R4000' /Electron Spectrometer  Model                                 \n",
       "SF_SER  = '4ES206' /Electron Spectrometer  Serial Number                        \n",
       "SS_NUM  =                    1 /# SS Regions                                    \n",
       "SS_PPEV = 'Inf     '           / #Pixels/eV for Ep=20                           \n",
       "SS_KE0  =    7.200000000000E+2 /#Zero Pixe for Ep=20                            \n",
       "SS_HV   =    6.300410400000E+1 /#SES hv                                         \n",
       "SS_ESLIT=                   -1 /Electron Spectrometer  Entrance Slit            \n",
       "SS_ESLIT= 'Unknown' /Electron Spectrometer  Entrance Slit                       \n",
       "SSRGN0  = 'SKMo20Dither' /SS Region name                                        \n",
       "SSLNM0  = 'Angular30' /lens mode name                                           \n",
       "SSPE_0  =                   20 /pass energy                                     \n",
       "SSKE_0  =                    F /Kinetic?                                        \n",
       "SSE0_0  =    5.050000000000E+0 /Min Energy                                      \n",
       "SSE1_0  =    4.500000000000E+0 /Max Energy                                      \n",
       "SSDE_0  =    4.800000000000E+1 /EnergyStep                                      \n",
       "SSFR_0  =                    2 /# Frames                                        \n",
       "SSSW0   =                    3 /# Sweeps                                        \n",
       "SSPEV_0 =    6.390000000000E+2 /Pixels pe eV                                    \n",
       "SSKE0_0 =    7.200000000000E+2 /Zero Pixel                                      \n",
       "SSX0_0  =                  128 /first x-channel                                 \n",
       "SSX1_0  =                 1165 /last x-channel                                  \n",
       "SSY0_0  =                  122 /first y -channel                                \n",
       "SSY1_0  =                  914 /last y-channel                                  \n",
       "SSDCX0_0=    9.178067885117E+2 /Disp Corr                                       \n",
       "SSDCY0_0=    1.935621301775E+2 /Disp Corr                                       \n",
       "SSDCX1_0=    9.205221932115E+2 /Disp Corr                                       \n",
       "SSDCY1_0=    1.157254437870E+3 /Disp Corr                                       \n",
       "SSDCX2_0=    1.031853785901E+2 /Disp Corr                                       \n",
       "SSDCY2_0=    1.161372781065E+3 /Disp Corr                                       \n",
       "SSDCX3_0=    1.031853785901E+2 /Disp Corr                                       \n",
       "SSDCY3_0=    2.100355029586E+2 /Disp Corr                                       "
      ]
     },
     "execution_count": 6,
     "metadata": {},
     "output_type": "execute_result"
    }
   ],
   "source": [
    "p00001[0].header"
   ]
  },
  {
   "cell_type": "code",
   "execution_count": null,
   "id": "a89bbfc6-b3bc-4294-be25-c4ce0e1d49e9",
   "metadata": {},
   "outputs": [],
   "source": []
  },
  {
   "cell_type": "code",
   "execution_count": null,
   "id": "932b2f27-53be-4682-b8d0-8d433f2a87bc",
   "metadata": {},
   "outputs": [],
   "source": []
  }
 ],
 "metadata": {
  "kernelspec": {
   "display_name": "Python 3",
   "language": "python",
   "name": "python3"
  },
  "language_info": {
   "codemirror_mode": {
    "name": "ipython",
    "version": 3
   },
   "file_extension": ".py",
   "mimetype": "text/x-python",
   "name": "python",
   "nbconvert_exporter": "python",
   "pygments_lexer": "ipython3",
   "version": "3.8.8"
  }
 },
 "nbformat": 4,
 "nbformat_minor": 5
}
